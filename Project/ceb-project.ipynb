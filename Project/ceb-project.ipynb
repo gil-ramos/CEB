{
 "cells": [
  {
   "cell_type": "markdown",
   "metadata": {},
   "source": [
    "# Computation for Economics and Business\n",
    "### Computação para Economia e Ciências Empresariais\n",
    "### 2nd Semester - 2024/2025"
   ]
  },
  {
   "cell_type": "markdown",
   "metadata": {},
   "source": [
    "# Project Assignment\n",
    "Version 2.0 (2025-03-11)\n",
    "\n",
    "- Due date: **Friday, March 28th at 23:59** (no late submissions)\n",
    "- This assignment should be performed individually.\n",
    "- Your project may be written either in *Portuguese* or in *English*  "
   ]
  },
  {
   "cell_type": "markdown",
   "metadata": {},
   "source": [
    "### General idea\n",
    "The idea of this assignment is to perform an exploratory data analysis of a given dataset, using Python and Pandas. You are expected to deliver a notebook where you  combine your explanations with the corresponding code and charts. You should report your intended goals and findings in a transparent way. The intended audience is your fellow students. They should be able to understand the code you write, together with the explanations that you give for this code."
   ]
  },
  {
   "cell_type": "markdown",
   "metadata": {},
   "source": [
    "### Datasets\n",
    "\n",
    "- You can use any dataset of your choice, containing at least some hundred of records. \n",
    "- Download a dataset, check it's data, and confirm that it contains relevant information for extracting knowledge about at least 5 interesting questions. \n",
    "- Please [ask for feedback](https://docs.google.com/spreadsheets/d/1nr6CT5cdsTATOYiFsBwhQ-mujybaAkJKq-2BCnbqmYI/edit?usp=sharing) before starting your work using any data source. \n",
    "\n",
    "Examples of economic organizations providing data\n",
    "- [OECD](https://stats.oecd.org/)\n",
    "- [World Bank](https://data.worldbank.org/) (A python API is probably required to access this data)\n",
    "- [IMF](https://www.imf.org/en/Data)\n",
    "- [Federal Reserve](https://www.federalreserve.gov/data.htm)\n",
    "- [European Union](https://data.europa.eu/euodp/en/data/)\n",
    "- [European Central Bank](https://www.ecb.europa.eu/stats/html/index.en.html)\n",
    "- Statistical office of your own country, e.g. [Portuguese Public Open data portal](https://dados.gov.pt/pt/datasets/)\n",
    "\n",
    "Other interesting places for getting datasets\n",
    "- https://datahub.io/collections, [Stock Market Data](https://datahub.io/collections/stock-market-data)\n",
    "- https://www.kaggle.com/datasets\n",
    "- https://archive.ics.uci.edu/ml/index.php\n",
    "- https://e-redes.opendatasoft.com/pages/homepage\n",
    "\n",
    "The [Seaborn package](http://seaborn.pydata.org/) also contains a number of interesting datasets"
   ]
  },
  {
   "cell_type": "markdown",
   "metadata": {},
   "source": [
    "The following items will be important when evaluating your assignment:"
   ]
  },
  {
   "cell_type": "markdown",
   "metadata": {},
   "source": [
    "### Data handling\n",
    "\n",
    "- In your notebook, create a link to the website containing the data source, and download the data.\n",
    "- Provide a short description of the data \n",
    "- If applicable, merge data from different datasets. See Sections 3.6 and 3.7 of the [Python Data Science Handbook](https://jakevdp.github.io/PythonDataScienceHandbook/index.html) about Combining Datasets\n",
    "- If applicable, clean the data: perform any data cleaning steps to get the data that you downloaded to the data that you will use in the analysis. Explain what you did (including the code) and why you did it. "
   ]
  },
  {
   "cell_type": "markdown",
   "metadata": {},
   "source": [
    "### Data analysis\n",
    "\n",
    "Start your analysis with clear and transparent questions. You should think of at least 5 relevant questions about the dataset, and try to provide the corresponding answers.\n",
    "- Briefly motivate why each question is interesting\n",
    "- Mention the main assumptions that you need to get this answer\n",
    "- Explain the steps that you use to answer the question\n",
    "- Report what you have found\n",
    "- Use graphs to introduce your data\n",
    "- Present a clear conclusion/answer to your question.\n",
    "- Include some discussion of what you find, and elements on which you need additional information.\n",
    "- Explain your code, the reader - think of your fellow students - must be able to easily follow what you are doing.\n",
    "\n",
    "In the course of your work, keep in mind that you should cover as many modules as possible from the lectures. For example: *handling missing data* (if applicable), *Hierarchical Indexing*, *Data Aggregation and grouping*, *Combining Datasets* (if applicable).\n",
    "\n",
    "You should also represent your results using different types of graphs. For example: line plots, histograms, plots with subplots, etc. For more details about graphs, see [Chapter 4 - Python Data Science Handbook](https://jakevdp.github.io/PythonDataScienceHandbook/index.html), and Section [Visualization with Seaborn](https://jakevdp.github.io)."
   ]
  },
  {
   "cell_type": "markdown",
   "metadata": {},
   "source": [
    "## Remarks:\n",
    "\n",
    "- You can copy code from the web, but\n",
    "    - always provide the reference of the code that you copy\n",
    "    - make sure that you explain the used code so that another student of the course understands it and can use it\n",
    "- During the development stage of your work, you should perform as many tests as you wish. However, you must submit a clean version of your notebook, containing only the relevant steps. In order to do so, before submitting you should copy your development notebook into a new file and clean it by deleting spurious tests and code.\n",
    "- use common sense: it is not always necessary to have a full-blown analysis, but you are expected to think! For each step, ask yourself why this step makes sense and then explain this in your notebook."
   ]
  },
  {
   "cell_type": "markdown",
   "metadata": {},
   "source": [
    "## Submission Instructions\n",
    "\n",
    "Your notebook should be submitted through [Moodle platform](https://moodle24.iscte-iul.pt/). You can make several submissions, taking into account that a submission replaces the previous one.\n",
    "\n",
    "If the data can be easily retrieved for the provided address, and was not subject of change during the assignment, just provide the link to the data in your assignment notebook. Otherwise, submit the data together with your work."
   ]
  },
  {
   "cell_type": "markdown",
   "metadata": {},
   "source": [
    "## Policies\n",
    "\n",
    "Students may share and/or exchange ideas with each other about the assignments and/or solving them. However, the work turned in must correspond to the individual effort of each person. The following situations are considered fraud:\n",
    "\n",
    "- Partially copied work\n",
    "- Facilitating copying by sharing files\n",
    "- Using other people's material without mentioning the source.\n",
    "\n",
    "In case of detection of any type of fraud, the work in question will not be evaluated, and will be sent to the Pedagogical Commission or the Pedagogical Council, depending on the gravity of the situation, which will decide the sanction to be applied to the students involved. Plagiarism tools will be used for automatic copy detection."
   ]
  }
 ],
 "metadata": {
  "kernelspec": {
   "display_name": "Python 3",
   "language": "python",
   "name": "python3"
  },
  "language_info": {
   "codemirror_mode": {
    "name": "ipython",
    "version": 3
   },
   "file_extension": ".py",
   "mimetype": "text/x-python",
   "name": "python",
   "nbconvert_exporter": "python",
   "pygments_lexer": "ipython3",
   "version": "3.8.10"
  }
 },
 "nbformat": 4,
 "nbformat_minor": 4
}
